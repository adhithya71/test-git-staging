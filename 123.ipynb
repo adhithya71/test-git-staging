{
 "cells": [
  {
   "cell_type": "code",
   "execution_count": null,
   "id": "f205244a-9b80-450d-8903-ee3634cc4006",
   "metadata": {},
   "outputs": [],
   "source": [
    "# aqrdqwr"
   ]
  }
 ],
 "metadata": {
  "kernelspec": {
   "display_name": "Python 3 (ipykernel)",
   "language": "python",
   "name": "python3"
  },
  "language_info": {
   "codemirror_mode": {
    "name": "ipython",
    "version": 3
   },
   "file_extension": ".py",
   "mimetype": "text/x-python",
   "name": "python",
   "nbconvert_exporter": "python",
   "pygments_lexer": "ipython3",
   "version": "3.9.10"
  }
 },
 "nbformat": 4,
 "nbformat_minor": 5
}
