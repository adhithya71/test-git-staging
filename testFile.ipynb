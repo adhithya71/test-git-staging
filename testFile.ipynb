{
 "cells": [
  {
   "cell_type": "code",
   "execution_count": null,
   "id": "facbb2e5-abd1-4075-82c5-7b2f227327d2",
   "metadata": {},
   "outputs": [],
   "source": [
    "# 123568r87t"
   ]
  },
  {
   "cell_type": "code",
   "execution_count": 1,
   "id": "6a36f56e-9abf-465c-baa2-136de8e96217",
   "metadata": {},
   "outputs": [
    {
     "ename": "NameError",
     "evalue": "name 'task' is not defined",
     "output_type": "error",
     "traceback": [
      "\u001b[0;31m---------------------------------------------------------------------------\u001b[0m",
      "\u001b[0;31mNameError\u001b[0m                                 Traceback (most recent call last)",
      "Input \u001b[0;32mIn [1]\u001b[0m, in \u001b[0;36m<cell line: 1>\u001b[0;34m()\u001b[0m\n\u001b[0;32m----> 1\u001b[0m \u001b[38;5;129m@task\u001b[39m\n\u001b[1;32m      2\u001b[0m \u001b[38;5;28;01mdef\u001b[39;00m \u001b[38;5;21mresolveQuery\u001b[39m( dataSetID : \u001b[38;5;28mstr\u001b[39m , query: \u001b[38;5;28mstr\u001b[39m  , ctx : Context) \u001b[38;5;241m-\u001b[39m\u001b[38;5;241m>\u001b[39m \u001b[38;5;28mdict\u001b[39m:\n\u001b[1;32m      3\u001b[0m \u001b[38;5;250m    \u001b[39m\u001b[38;5;124;03m''''Task to rsolve the query '''\u001b[39;00m\n\u001b[1;32m      5\u001b[0m     \u001b[38;5;28;01mtry\u001b[39;00m:\n",
      "\u001b[0;31mNameError\u001b[0m: name 'task' is not defined"
     ]
    }
   ],
   "source": [
    "@task\n",
    "def resolveQuery( dataSetID : str , query: str  , ctx : Context) -> dict:\n",
    "    ''''Task to rsolve the query '''\n",
    "  \n",
    "    try:\n",
    "        import os\n",
    "        #import pyplot \n",
    "\n",
    "        #from conversight import Context\n",
    "        #ctx = Context()\n",
    "        import time \n",
    "        import requests \n",
    "        import sys \n",
    "        from csSDK import Dataset\n",
    "        ctx.log.critical(\"CsSSdk are imported  \")\n",
    "        ctx.log.info(\"os , time , requests imported  \")\n",
    "        from conversight import Dataset\n",
    "        ctx.log.info(\"Dataset is impotted  \")\n",
    "        dataEngineURL = \"{}/formatQuery\".format(os.getenv(\"DATAENGINE_SERVICE\"))\n",
    "        ctx.log.info(\"Info lof!!! Data Engine is Connnected  New updated version 2.1 version with try and catch  \")\n",
    "        body = {\"query\": query, \"dataSetID\": dataSetID}   \n",
    "        ctx.log.error(\"This is not a error Message Just Ignore ---> Dataset is connected \") \n",
    "        response = requests.post(url=dataEngineURL, json=body)\n",
    "        status = {401:\"Un Authorized\", 500: \"User does not have dataset Access\", 400: \"Bad Request\"}                                                             \n",
    "        if response.status_code in status:\n",
    "            print(\"Error From Data engine {}\".format(status[response.status_code]))\n",
    "            ctx.log.critical(\"Error from Data Engine \")\n",
    "            return {\"error\":status[response.status_code]}\n",
    "        res = response.json()\n",
    "        if res is not None:\n",
    "            print(\"Resolved Query ====> {} \".format(res[\"query\"]))\n",
    "            ctx.log.info(\"Query is Resolved \")\n",
    "            return res \n",
    "        else:\n",
    "            print(\"Error From Resolved Query ====> {} \".format(\"Error from data engine\"))\n",
    "            return {\"error\": \"Empty response from data engine \"}\n",
    "    except Exception as e:\n",
    "        print(\"Error From Resolved Query ====> {} \".format(str(e))) \n",
    "        return {\"error\": str(e)}"
   ]
  },
  {
   "cell_type": "code",
   "execution_count": null,
   "id": "316beb3b-542e-4865-a303-4a3c2074cd9f",
   "metadata": {},
   "outputs": [],
   "source": []
  }
 ],
 "metadata": {
  "kernelspec": {
   "display_name": "Python 3 (ipykernel)",
   "language": "python",
   "name": "python3"
  },
  "language_info": {
   "codemirror_mode": {
    "name": "ipython",
    "version": 3
   },
   "file_extension": ".py",
   "mimetype": "text/x-python",
   "name": "python",
   "nbconvert_exporter": "python",
   "pygments_lexer": "ipython3",
   "version": "3.9.10"
  }
 },
 "nbformat": 4,
 "nbformat_minor": 5
}
